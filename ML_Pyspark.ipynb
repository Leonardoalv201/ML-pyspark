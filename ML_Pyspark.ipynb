{
  "nbformat": 4,
  "nbformat_minor": 0,
  "metadata": {
    "colab": {
      "provenance": []
    },
    "kernelspec": {
      "name": "python3",
      "display_name": "Python 3"
    },
    "language_info": {
      "name": "python"
    }
  },
  "cells": [
    {
      "cell_type": "markdown",
      "source": [
        "#Momento de Retroalimentación: Módulo 1 Utilización, procesamiento y visualización de grandes volúmenes de datos (Portafolio Análisis)"
      ],
      "metadata": {
        "id": "N7V3I8b7SUg4"
      }
    },
    {
      "cell_type": "markdown",
      "source": [
        "Para esta actividad, se hara la prediccion sobre si una persona es propensa a tener un ataque cardiaco segun sus datos medicos"
      ],
      "metadata": {
        "id": "J3syxCUrlcwG"
      }
    },
    {
      "cell_type": "markdown",
      "source": [
        "##Inicio de sesion en spark"
      ],
      "metadata": {
        "id": "yDlhO5rxSaBt"
      }
    },
    {
      "cell_type": "code",
      "source": [
        "#Bibliotecas para poder trabajar con Spark\n",
        "!sudo apt update\n",
        "!apt-get install openjdk-8-jdk-headless -qq > /dev/null\n",
        "!wget -q https://downloads.apache.org/spark/spark-3.2.2//spark-3.2.2-bin-hadoop3.2.tgz\n",
        "!tar xf spark-3.2.2-bin-hadoop3.2.tgz\n",
        "#Configuración de Spark con Python\n",
        "!pip install -q findspark\n",
        "!pip install pyspark\n",
        "\n",
        "#Estableciendo variable de entorno\n",
        "import os\n",
        "os.environ[\"JAVA_HOME\"] = \"/usr/lib/jvm/java-8-openjdk-amd64\"\n",
        "os.environ[\"SPARK_HOME\"] = \"/content/spark-3.2.2-bin-hadoop3.2\"\n",
        "\n",
        "#Buscando e inicializando la instalación de Spark\n",
        "import findspark\n",
        "findspark.init()\n",
        "findspark.find()\n",
        "\n",
        "#Probando PySparl\n",
        "from pyspark.sql import SparkSession\n",
        "\n",
        "spark_Act1 = SparkSession \\\n",
        "       .builder \\\n",
        "       .appName(\"Act1\") \\\n",
        "       .getOrCreate()\n",
        "\n",
        "spark_Act1"
      ],
      "metadata": {
        "colab": {
          "base_uri": "https://localhost:8080/",
          "height": 896
        },
        "id": "TwtmylWuMkmT",
        "outputId": "b621151c-7253-4146-80a3-e6b1032ec7cd"
      },
      "execution_count": 1,
      "outputs": [
        {
          "output_type": "stream",
          "name": "stdout",
          "text": [
            "\u001b[33m\r0% [Working]\u001b[0m\r            \rGet:1 https://cloud.r-project.org/bin/linux/ubuntu bionic-cran40/ InRelease [3,626 B]\n",
            "\u001b[33m\r0% [Waiting for headers] [Waiting for headers] [1 InRelease 0 B/3,626 B 0%] [Wa\u001b[0m\u001b[33m\r0% [Waiting for headers] [Waiting for headers] [Waiting for headers] [Connectin\u001b[0m\u001b[33m\r0% [1 InRelease gpgv 3,626 B] [Waiting for headers] [Waiting for headers] [Wait\u001b[0m\r                                                                               \rGet:2 http://security.ubuntu.com/ubuntu bionic-security InRelease [88.7 kB]\n",
            "\u001b[33m\r0% [1 InRelease gpgv 3,626 B] [Waiting for headers] [2 InRelease 14.2 kB/88.7 k\u001b[0m\r                                                                               \rIgn:3 https://developer.download.nvidia.com/compute/machine-learning/repos/ubuntu1804/x86_64  InRelease\n",
            "\u001b[33m\r0% [1 InRelease gpgv 3,626 B] [Waiting for headers] [2 InRelease 14.2 kB/88.7 k\u001b[0m\r                                                                               \rHit:4 http://archive.ubuntu.com/ubuntu bionic InRelease\n",
            "\u001b[33m\r0% [1 InRelease gpgv 3,626 B] [Waiting for headers] [2 InRelease 14.2 kB/88.7 k\u001b[0m\r                                                                               \rGet:5 https://developer.download.nvidia.com/compute/cuda/repos/ubuntu1804/x86_64  InRelease [1,581 B]\n",
            "Hit:6 https://developer.download.nvidia.com/compute/machine-learning/repos/ubuntu1804/x86_64  Release\n",
            "Get:7 http://ppa.launchpad.net/c2d4u.team/c2d4u4.0+/ubuntu bionic InRelease [15.9 kB]\n",
            "Get:8 http://archive.ubuntu.com/ubuntu bionic-updates InRelease [88.7 kB]\n",
            "Get:9 https://cloud.r-project.org/bin/linux/ubuntu bionic-cran40/ Packages [96.6 kB]\n",
            "Hit:10 http://ppa.launchpad.net/cran/libgit2/ubuntu bionic InRelease\n",
            "Get:11 http://archive.ubuntu.com/ubuntu bionic-backports InRelease [83.3 kB]\n",
            "Get:12 http://ppa.launchpad.net/deadsnakes/ppa/ubuntu bionic InRelease [15.9 kB]\n",
            "Get:13 https://developer.download.nvidia.com/compute/cuda/repos/ubuntu1804/x86_64  Packages [992 kB]\n",
            "Hit:15 http://ppa.launchpad.net/graphics-drivers/ppa/ubuntu bionic InRelease\n",
            "Get:16 http://ppa.launchpad.net/c2d4u.team/c2d4u4.0+/ubuntu bionic/main Sources [2,181 kB]\n",
            "Get:17 http://security.ubuntu.com/ubuntu bionic-security/universe amd64 Packages [1,554 kB]\n",
            "Get:18 http://archive.ubuntu.com/ubuntu bionic-updates/main amd64 Packages [3,467 kB]\n",
            "Get:19 http://security.ubuntu.com/ubuntu bionic-security/main amd64 Packages [3,035 kB]\n",
            "Get:20 http://ppa.launchpad.net/c2d4u.team/c2d4u4.0+/ubuntu bionic/main amd64 Packages [1,117 kB]\n",
            "Get:21 http://archive.ubuntu.com/ubuntu bionic-updates/universe amd64 Packages [2,332 kB]\n",
            "Fetched 15.1 MB in 5s (3,212 kB/s)\n",
            "Reading package lists... Done\n",
            "Building dependency tree       \n",
            "Reading state information... Done\n",
            "14 packages can be upgraded. Run 'apt list --upgradable' to see them.\n",
            "Looking in indexes: https://pypi.org/simple, https://us-python.pkg.dev/colab-wheels/public/simple/\n",
            "Collecting pyspark\n",
            "  Downloading pyspark-3.3.1.tar.gz (281.4 MB)\n",
            "\u001b[K     |████████████████████████████████| 281.4 MB 47 kB/s \n",
            "\u001b[?25hCollecting py4j==0.10.9.5\n",
            "  Downloading py4j-0.10.9.5-py2.py3-none-any.whl (199 kB)\n",
            "\u001b[K     |████████████████████████████████| 199 kB 55.4 MB/s \n",
            "\u001b[?25hBuilding wheels for collected packages: pyspark\n",
            "  Building wheel for pyspark (setup.py) ... \u001b[?25l\u001b[?25hdone\n",
            "  Created wheel for pyspark: filename=pyspark-3.3.1-py2.py3-none-any.whl size=281845513 sha256=74ae6e1678fb1daa6cc0c2296f74b0d3e5684c5198bbbdf3ba279d7b46f1f925\n",
            "  Stored in directory: /root/.cache/pip/wheels/42/59/f5/79a5bf931714dcd201b26025347785f087370a10a3329a899c\n",
            "Successfully built pyspark\n",
            "Installing collected packages: py4j, pyspark\n",
            "Successfully installed py4j-0.10.9.5 pyspark-3.3.1\n"
          ]
        },
        {
          "output_type": "execute_result",
          "data": {
            "text/plain": [
              "<pyspark.sql.session.SparkSession at 0x7fd0a42aa1d0>"
            ],
            "text/html": [
              "\n",
              "            <div>\n",
              "                <p><b>SparkSession - in-memory</b></p>\n",
              "                \n",
              "        <div>\n",
              "            <p><b>SparkContext</b></p>\n",
              "\n",
              "            <p><a href=\"http://b643a833d9bd:4040\">Spark UI</a></p>\n",
              "\n",
              "            <dl>\n",
              "              <dt>Version</dt>\n",
              "                <dd><code>v3.2.2</code></dd>\n",
              "              <dt>Master</dt>\n",
              "                <dd><code>local[*]</code></dd>\n",
              "              <dt>AppName</dt>\n",
              "                <dd><code>Act1</code></dd>\n",
              "            </dl>\n",
              "        </div>\n",
              "        \n",
              "            </div>\n",
              "        "
            ]
          },
          "metadata": {},
          "execution_count": 1
        }
      ]
    },
    {
      "cell_type": "markdown",
      "source": [
        "## Acceso a datos de Google Drive"
      ],
      "metadata": {
        "id": "0Aa_Gp4fSelO"
      }
    },
    {
      "cell_type": "code",
      "source": [
        "from google.colab import drive\n",
        "\n",
        "drive.mount(\"/content/gdrive\") "
      ],
      "metadata": {
        "colab": {
          "base_uri": "https://localhost:8080/"
        },
        "id": "xJa2fuSzKKVx",
        "outputId": "8468151a-0a54-41ea-ff6f-73857b42bbdb"
      },
      "execution_count": 2,
      "outputs": [
        {
          "output_type": "stream",
          "name": "stdout",
          "text": [
            "Mounted at /content/gdrive\n"
          ]
        }
      ]
    },
    {
      "cell_type": "code",
      "source": [
        "%cd \"/content/gdrive/MyDrive/Bloque 2 IA/Modulo 1 BD/Entregable\"\n",
        "!ls"
      ],
      "metadata": {
        "colab": {
          "base_uri": "https://localhost:8080/"
        },
        "id": "q5AsBW-kKU77",
        "outputId": "643684dc-6d38-4bdd-b076-ca2098fe6905"
      },
      "execution_count": 5,
      "outputs": [
        {
          "output_type": "stream",
          "name": "stdout",
          "text": [
            "/content/gdrive/MyDrive/Bloque 2 IA/Modulo 1 BD/Entregable\n",
            "Untitled0.ipynb  Wine.csv\n"
          ]
        }
      ]
    },
    {
      "cell_type": "markdown",
      "source": [
        "##Obtencion del dataset "
      ],
      "metadata": {
        "id": "SgSvQn7BSiuE"
      }
    },
    {
      "cell_type": "markdown",
      "source": [
        "Dataset obtenido de kaggle [Heart Attack Analysis](https://www.kaggle.com/datasets/rashikrahmanpritom/heart-attack-analysis-prediction-dataset?select=heart.csv)"
      ],
      "metadata": {
        "id": "xDqHlmmkQgMO"
      }
    },
    {
      "cell_type": "code",
      "source": [
        "df = spark_Act1.read.csv('/content/gdrive/MyDrive/Bloque 2 IA/Modulo 1 BD/Entregable/heart.csv', header=True, inferSchema=True)\n",
        "df"
      ],
      "metadata": {
        "colab": {
          "base_uri": "https://localhost:8080/"
        },
        "id": "vBhuBQUSKBDG",
        "outputId": "5fd38a80-8ae4-4422-8baa-723ec4b947e1"
      },
      "execution_count": 117,
      "outputs": [
        {
          "output_type": "execute_result",
          "data": {
            "text/plain": [
              "DataFrame[age: int, sex: int, cp: int, trtbps: int, chol: int, fbs: int, restecg: int, thalachh: int, exng: int, oldpeak: double, slp: int, caa: int, thall: int, output: int]"
            ]
          },
          "metadata": {},
          "execution_count": 117
        }
      ]
    },
    {
      "cell_type": "code",
      "source": [
        "#Visualizamos el dataset para conocer los datos a tratar\n",
        "df.show()"
      ],
      "metadata": {
        "colab": {
          "base_uri": "https://localhost:8080/"
        },
        "id": "CTGQRrhPKrhZ",
        "outputId": "8a91d938-014e-4bb6-f610-ccd2282b1a9b"
      },
      "execution_count": 118,
      "outputs": [
        {
          "output_type": "stream",
          "name": "stdout",
          "text": [
            "+---+---+---+------+----+---+-------+--------+----+-------+---+---+-----+------+\n",
            "|age|sex| cp|trtbps|chol|fbs|restecg|thalachh|exng|oldpeak|slp|caa|thall|output|\n",
            "+---+---+---+------+----+---+-------+--------+----+-------+---+---+-----+------+\n",
            "| 63|  1|  3|   145| 233|  1|      0|     150|   0|    2.3|  0|  0|    1|     1|\n",
            "| 37|  1|  2|   130| 250|  0|      1|     187|   0|    3.5|  0|  0|    2|     1|\n",
            "| 41|  0|  1|   130| 204|  0|      0|     172|   0|    1.4|  2|  0|    2|     1|\n",
            "| 56|  1|  1|   120| 236|  0|      1|     178|   0|    0.8|  2|  0|    2|     1|\n",
            "| 57|  0|  0|   120| 354|  0|      1|     163|   1|    0.6|  2|  0|    2|     1|\n",
            "| 57|  1|  0|   140| 192|  0|      1|     148|   0|    0.4|  1|  0|    1|     1|\n",
            "| 56|  0|  1|   140| 294|  0|      0|     153|   0|    1.3|  1|  0|    2|     1|\n",
            "| 44|  1|  1|   120| 263|  0|      1|     173|   0|    0.0|  2|  0|    3|     1|\n",
            "| 52|  1|  2|   172| 199|  1|      1|     162|   0|    0.5|  2|  0|    3|     1|\n",
            "| 57|  1|  2|   150| 168|  0|      1|     174|   0|    1.6|  2|  0|    2|     1|\n",
            "| 54|  1|  0|   140| 239|  0|      1|     160|   0|    1.2|  2|  0|    2|     1|\n",
            "| 48|  0|  2|   130| 275|  0|      1|     139|   0|    0.2|  2|  0|    2|     1|\n",
            "| 49|  1|  1|   130| 266|  0|      1|     171|   0|    0.6|  2|  0|    2|     1|\n",
            "| 64|  1|  3|   110| 211|  0|      0|     144|   1|    1.8|  1|  0|    2|     1|\n",
            "| 58|  0|  3|   150| 283|  1|      0|     162|   0|    1.0|  2|  0|    2|     1|\n",
            "| 50|  0|  2|   120| 219|  0|      1|     158|   0|    1.6|  1|  0|    2|     1|\n",
            "| 58|  0|  2|   120| 340|  0|      1|     172|   0|    0.0|  2|  0|    2|     1|\n",
            "| 66|  0|  3|   150| 226|  0|      1|     114|   0|    2.6|  0|  0|    2|     1|\n",
            "| 43|  1|  0|   150| 247|  0|      1|     171|   0|    1.5|  2|  0|    2|     1|\n",
            "| 69|  0|  3|   140| 239|  0|      1|     151|   0|    1.8|  2|  2|    2|     1|\n",
            "+---+---+---+------+----+---+-------+--------+----+-------+---+---+-----+------+\n",
            "only showing top 20 rows\n",
            "\n"
          ]
        }
      ]
    },
    {
      "cell_type": "code",
      "source": [
        "df.printSchema()"
      ],
      "metadata": {
        "colab": {
          "base_uri": "https://localhost:8080/"
        },
        "id": "F5ozSZ1VK1BA",
        "outputId": "66ffbf28-06ea-4591-cd3f-69430e4bd1d3"
      },
      "execution_count": 120,
      "outputs": [
        {
          "output_type": "stream",
          "name": "stdout",
          "text": [
            "root\n",
            " |-- age: integer (nullable = true)\n",
            " |-- sex: integer (nullable = true)\n",
            " |-- cp: integer (nullable = true)\n",
            " |-- trtbps: integer (nullable = true)\n",
            " |-- chol: integer (nullable = true)\n",
            " |-- fbs: integer (nullable = true)\n",
            " |-- restecg: integer (nullable = true)\n",
            " |-- thalachh: integer (nullable = true)\n",
            " |-- exng: integer (nullable = true)\n",
            " |-- oldpeak: double (nullable = true)\n",
            " |-- slp: integer (nullable = true)\n",
            " |-- caa: integer (nullable = true)\n",
            " |-- thall: integer (nullable = true)\n",
            " |-- output: integer (nullable = true)\n",
            "\n"
          ]
        }
      ]
    },
    {
      "cell_type": "markdown",
      "source": [
        "## Data preparation"
      ],
      "metadata": {
        "id": "KQw-RmtPlyIg"
      }
    },
    {
      "cell_type": "markdown",
      "source": [
        "Creacion del Vector Assembler con los datos relevantes del Dataset"
      ],
      "metadata": {
        "id": "MqDjUXcFSoV0"
      }
    },
    {
      "cell_type": "code",
      "source": [
        "from pyspark.ml.feature import VectorAssembler\n",
        "\n",
        "cols = ['age', 'sex', 'cp', 'trtbps', 'chol', 'fbs',\n",
        "        'restecg', 'thalachh', 'exng', 'oldpeak', \n",
        "        'slp', 'caa', 'thall']\n",
        "\n",
        "assembler = VectorAssembler(\n",
        "    inputCols=cols,\n",
        "    outputCol=\"features\")\n",
        "\n",
        "transformed = assembler.transform(df)\n",
        "\n",
        "#Creamos el dataset final con el vector assembler y los outputs\n",
        "final_data = transformed.select(\"features\", \"output\")\n",
        "final_data.show()"
      ],
      "metadata": {
        "colab": {
          "base_uri": "https://localhost:8080/"
        },
        "id": "jUUaDwSoLYVI",
        "outputId": "27d7d2b5-08a4-423e-9795-e7cb3496bc0c"
      },
      "execution_count": 121,
      "outputs": [
        {
          "output_type": "stream",
          "name": "stdout",
          "text": [
            "+--------------------+------+\n",
            "|            features|output|\n",
            "+--------------------+------+\n",
            "|[63.0,1.0,3.0,145...|     1|\n",
            "|[37.0,1.0,2.0,130...|     1|\n",
            "|[41.0,0.0,1.0,130...|     1|\n",
            "|[56.0,1.0,1.0,120...|     1|\n",
            "|[57.0,0.0,0.0,120...|     1|\n",
            "|[57.0,1.0,0.0,140...|     1|\n",
            "|[56.0,0.0,1.0,140...|     1|\n",
            "|[44.0,1.0,1.0,120...|     1|\n",
            "|[52.0,1.0,2.0,172...|     1|\n",
            "|[57.0,1.0,2.0,150...|     1|\n",
            "|[54.0,1.0,0.0,140...|     1|\n",
            "|[48.0,0.0,2.0,130...|     1|\n",
            "|[49.0,1.0,1.0,130...|     1|\n",
            "|[64.0,1.0,3.0,110...|     1|\n",
            "|[58.0,0.0,3.0,150...|     1|\n",
            "|[50.0,0.0,2.0,120...|     1|\n",
            "|[58.0,0.0,2.0,120...|     1|\n",
            "|[66.0,0.0,3.0,150...|     1|\n",
            "|[43.0,1.0,0.0,150...|     1|\n",
            "|[69.0,0.0,3.0,140...|     1|\n",
            "+--------------------+------+\n",
            "only showing top 20 rows\n",
            "\n"
          ]
        }
      ]
    },
    {
      "cell_type": "code",
      "source": [
        "# Split en train y test\n",
        "(df_train, df_test) = final_data.randomSplit([0.7, 0.3], seed=42)"
      ],
      "metadata": {
        "id": "ModjRMChLCLb"
      },
      "execution_count": 122,
      "outputs": []
    },
    {
      "cell_type": "markdown",
      "source": [
        "##Creación del modelo"
      ],
      "metadata": {
        "id": "6u16g99tlFvC"
      }
    },
    {
      "cell_type": "code",
      "source": [
        "from pyspark.ml.classification import LogisticRegression\n",
        "\n",
        "lr = LogisticRegression(featuresCol = 'features', labelCol = 'output', maxIter=10)\n",
        "lrModel = lr.fit(df_train)"
      ],
      "metadata": {
        "id": "qPDXKYIGTwjN"
      },
      "execution_count": 123,
      "outputs": []
    },
    {
      "cell_type": "markdown",
      "source": [
        "## Predicción del modelo"
      ],
      "metadata": {
        "id": "nyISLfiSlMIk"
      }
    },
    {
      "cell_type": "code",
      "source": [
        "prediction_result = lrModel.evaluate(df_test)\n",
        "prediction_result.predictions.show()"
      ],
      "metadata": {
        "colab": {
          "base_uri": "https://localhost:8080/"
        },
        "id": "I24a5hgcdZeh",
        "outputId": "93ab9284-af96-45f2-a0fd-0094070f9981"
      },
      "execution_count": 124,
      "outputs": [
        {
          "output_type": "stream",
          "name": "stdout",
          "text": [
            "+--------------------+------+--------------------+--------------------+----------+\n",
            "|            features|output|       rawPrediction|         probability|prediction|\n",
            "+--------------------+------+--------------------+--------------------+----------+\n",
            "|(13,[0,1,3,4,7,10...|     1|[-1.5294992082306...|[0.17806696941440...|       1.0|\n",
            "|(13,[0,2,3,4,7,10...|     1|[-4.2782986501539...|[0.01367659054740...|       1.0|\n",
            "|(13,[0,3,4,6,7,10...|     1|[-3.5823965274157...|[0.02705655825811...|       1.0|\n",
            "|(13,[0,3,4,7,8,10...|     1|[-0.5210565014791...|[0.37260522151029...|       1.0|\n",
            "|(13,[0,3,4,7,9,10...|     1|[-0.6947875105924...|[0.33296891525768...|       1.0|\n",
            "|(13,[0,3,4,7,9,11...|     0|[2.75572945338308...|[0.94023611344024...|       0.0|\n",
            "|(13,[0,3,4,7,9,11...|     0|[5.87436588741898...|[0.99719730134606...|       0.0|\n",
            "|(13,[0,3,4,7,10,1...|     0|[-2.6844787018020...|[0.06389546874026...|       1.0|\n",
            "|[34.0,0.0,1.0,118...|     1|[-4.0812853459174...|[0.01660535385609...|       1.0|\n",
            "|[35.0,0.0,0.0,138...|     1|[-2.7533183935481...|[0.05989951312359...|       1.0|\n",
            "|[35.0,1.0,0.0,120...|     0|[2.33346870907777...|[0.91161123146304...|       0.0|\n",
            "|[37.0,1.0,2.0,130...|     1|[0.53784652416526...|[0.63131132232759...|       0.0|\n",
            "|[38.0,1.0,2.0,138...|     1|[0.59716605346797...|[0.64500767661233...|       0.0|\n",
            "|[38.0,1.0,2.0,138...|     1|[0.59716605346797...|[0.64500767661233...|       0.0|\n",
            "|[39.0,0.0,2.0,94....|     1|[-5.3654414546498...|[0.00465363820911...|       1.0|\n",
            "|[39.0,1.0,0.0,118...|     0|[0.81781590408317...|[0.69377252058411...|       0.0|\n",
            "|[39.0,1.0,2.0,140...|     1|[-2.1403612079279...|[0.10523537301268...|       1.0|\n",
            "|[41.0,0.0,1.0,105...|     1|[-3.5322622034368...|[0.02840808181427...|       1.0|\n",
            "|[41.0,0.0,2.0,112...|     1|[-3.1611217647214...|[0.04065527947281...|       1.0|\n",
            "|[41.0,1.0,1.0,110...|     1|[-2.2988191004200...|[0.09122080984095...|       1.0|\n",
            "+--------------------+------+--------------------+--------------------+----------+\n",
            "only showing top 20 rows\n",
            "\n"
          ]
        },
        {
          "output_type": "stream",
          "name": "stderr",
          "text": [
            "/content/spark-3.2.2-bin-hadoop3.2/python/pyspark/sql/context.py:127: FutureWarning: Deprecated in 3.0.0. Use SparkSession.builder.getOrCreate() instead.\n",
            "  FutureWarning\n"
          ]
        }
      ]
    },
    {
      "cell_type": "markdown",
      "source": [
        "## Metricas obtenidas por el modelo"
      ],
      "metadata": {
        "id": "QHsFcp4RlQla"
      }
    },
    {
      "cell_type": "markdown",
      "source": [
        "Accuracy del modelo en train"
      ],
      "metadata": {
        "id": "FIR6kRM2kC9j"
      }
    },
    {
      "cell_type": "code",
      "source": [
        "lrModel.summary.accuracy"
      ],
      "metadata": {
        "colab": {
          "base_uri": "https://localhost:8080/"
        },
        "id": "JDvsrIrAfxwv",
        "outputId": "7d04d8f0-440b-46a0-f787-37c1cc3a666a"
      },
      "execution_count": 125,
      "outputs": [
        {
          "output_type": "execute_result",
          "data": {
            "text/plain": [
              "0.84375"
            ]
          },
          "metadata": {},
          "execution_count": 125
        }
      ]
    },
    {
      "cell_type": "markdown",
      "source": [
        "Accuracy del modelo en test"
      ],
      "metadata": {
        "id": "Vc3xez5zkGbJ"
      }
    },
    {
      "cell_type": "code",
      "source": [
        "prediction_result.accuracy"
      ],
      "metadata": {
        "colab": {
          "base_uri": "https://localhost:8080/"
        },
        "id": "Yj8HKzBkf1zo",
        "outputId": "d281e46f-adef-4843-cf02-e30e62e941b1"
      },
      "execution_count": 126,
      "outputs": [
        {
          "output_type": "execute_result",
          "data": {
            "text/plain": [
              "0.8481012658227848"
            ]
          },
          "metadata": {},
          "execution_count": 126
        }
      ]
    },
    {
      "cell_type": "markdown",
      "source": [
        "Area under ROC del modelo en test"
      ],
      "metadata": {
        "id": "vLj_jjEakLc4"
      }
    },
    {
      "cell_type": "code",
      "source": [
        "prediction_result.areaUnderROC"
      ],
      "metadata": {
        "colab": {
          "base_uri": "https://localhost:8080/"
        },
        "id": "mKS--b-yigYG",
        "outputId": "6c40b209-2aee-4ac1-a909-f7aaa320ae70"
      },
      "execution_count": 127,
      "outputs": [
        {
          "output_type": "execute_result",
          "data": {
            "text/plain": [
              "0.9208776595744681"
            ]
          },
          "metadata": {},
          "execution_count": 127
        }
      ]
    }
  ]
}