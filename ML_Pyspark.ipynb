{
  "nbformat": 4,
  "nbformat_minor": 0,
  "metadata": {
    "colab": {
      "provenance": []
    },
    "kernelspec": {
      "name": "python3",
      "display_name": "Python 3"
    },
    "language_info": {
      "name": "python"
    }
  },
  "cells": [
    {
      "cell_type": "markdown",
      "source": [
        "#Momento de Retroalimentación: Módulo 1 Utilización, procesamiento y visualización de grandes volúmenes de datos (Portafolio Análisis)"
      ],
      "metadata": {
        "id": "N7V3I8b7SUg4"
      }
    },
    {
      "cell_type": "markdown",
      "source": [
        "Para esta actividad, se hara la prediccion sobre si una persona es propensa a tener un ataque cardiaco segun sus datos medicos"
      ],
      "metadata": {
        "id": "J3syxCUrlcwG"
      }
    },
    {
      "cell_type": "markdown",
      "source": [
        "##Inicio de sesion en spark"
      ],
      "metadata": {
        "id": "yDlhO5rxSaBt"
      }
    },
    {
      "cell_type": "code",
      "source": [
        "#Bibliotecas para poder trabajar con Spark\n",
        "!sudo apt update\n",
        "!apt-get install openjdk-8-jdk-headless -qq > /dev/null\n",
        "!wget -q https://downloads.apache.org/spark/spark-3.2.2//spark-3.2.2-bin-hadoop3.2.tgz\n",
        "!tar xf spark-3.2.2-bin-hadoop3.2.tgz\n",
        "#Configuración de Spark con Python\n",
        "!pip install -q findspark\n",
        "!pip install pyspark\n",
        "\n",
        "#Estableciendo variable de entorno\n",
        "import os\n",
        "os.environ[\"JAVA_HOME\"] = \"/usr/lib/jvm/java-8-openjdk-amd64\"\n",
        "os.environ[\"SPARK_HOME\"] = \"/content/spark-3.2.2-bin-hadoop3.2\"\n",
        "\n",
        "#Buscando e inicializando la instalación de Spark\n",
        "import findspark\n",
        "findspark.init()\n",
        "findspark.find()\n",
        "\n",
        "#Probando PySparl\n",
        "from pyspark.sql import SparkSession\n",
        "\n",
        "spark_Act1 = SparkSession \\\n",
        "       .builder \\\n",
        "       .appName(\"Act1\") \\\n",
        "       .getOrCreate()\n",
        "\n",
        "spark_Act1"
      ],
      "metadata": {
        "colab": {
          "base_uri": "https://localhost:8080/",
          "height": 844
        },
        "id": "TwtmylWuMkmT",
        "outputId": "9617b9d7-807f-4412-815a-1b0f36733353"
      },
      "execution_count": 1,
      "outputs": [
        {
          "output_type": "stream",
          "name": "stdout",
          "text": [
            "\u001b[33m\r0% [Working]\u001b[0m\r            \rHit:1 http://ppa.launchpad.net/c2d4u.team/c2d4u4.0+/ubuntu bionic InRelease\n",
            "\u001b[33m\r0% [Connecting to archive.ubuntu.com (91.189.91.38)] [Connecting to security.ub\u001b[0m\r                                                                               \rHit:2 http://ppa.launchpad.net/cran/libgit2/ubuntu bionic InRelease\n",
            "\u001b[33m\r0% [Connecting to archive.ubuntu.com (91.189.91.38)] [Connecting to security.ub\u001b[0m\u001b[33m\r0% [1 InRelease gpgv 15.9 kB] [Connecting to archive.ubuntu.com (91.189.91.38)]\u001b[0m\r                                                                               \rGet:3 https://cloud.r-project.org/bin/linux/ubuntu bionic-cran40/ InRelease [3,626 B]\n",
            "\u001b[33m\r0% [1 InRelease gpgv 15.9 kB] [Connecting to archive.ubuntu.com (91.189.91.38)]\u001b[0m\r                                                                               \rHit:4 http://ppa.launchpad.net/deadsnakes/ppa/ubuntu bionic InRelease\n",
            "\u001b[33m\r0% [1 InRelease gpgv 15.9 kB] [Connecting to archive.ubuntu.com (91.189.91.38)]\u001b[0m\r                                                                               \rHit:5 http://ppa.launchpad.net/graphics-drivers/ppa/ubuntu bionic InRelease\n",
            "\u001b[33m\r0% [1 InRelease gpgv 15.9 kB] [Waiting for headers] [Waiting for headers] [Wait\u001b[0m\r                                                                               \rGet:6 http://security.ubuntu.com/ubuntu bionic-security InRelease [88.7 kB]\n",
            "Hit:7 http://archive.ubuntu.com/ubuntu bionic InRelease\n",
            "Get:8 http://archive.ubuntu.com/ubuntu bionic-updates InRelease [88.7 kB]\n",
            "Ign:9 https://developer.download.nvidia.com/compute/machine-learning/repos/ubuntu1804/x86_64  InRelease\n",
            "Get:10 https://developer.download.nvidia.com/compute/cuda/repos/ubuntu1804/x86_64  InRelease [1,581 B]\n",
            "Hit:11 https://developer.download.nvidia.com/compute/machine-learning/repos/ubuntu1804/x86_64  Release\n",
            "Get:12 http://archive.ubuntu.com/ubuntu bionic-backports InRelease [83.3 kB]\n",
            "Get:13 https://developer.download.nvidia.com/compute/cuda/repos/ubuntu1804/x86_64  Packages [1,038 kB]\n",
            "Get:15 http://security.ubuntu.com/ubuntu bionic-security/universe amd64 Packages [1,561 kB]\n",
            "Get:16 http://archive.ubuntu.com/ubuntu bionic-updates/universe amd64 Packages [2,338 kB]\n",
            "Get:17 http://security.ubuntu.com/ubuntu bionic-security/main amd64 Packages [3,067 kB]\n",
            "Get:18 http://archive.ubuntu.com/ubuntu bionic-updates/main amd64 Packages [3,493 kB]\n",
            "Fetched 11.8 MB in 3s (4,419 kB/s)\n",
            "Reading package lists... Done\n",
            "Building dependency tree       \n",
            "Reading state information... Done\n",
            "7 packages can be upgraded. Run 'apt list --upgradable' to see them.\n",
            "Looking in indexes: https://pypi.org/simple, https://us-python.pkg.dev/colab-wheels/public/simple/\n",
            "Collecting pyspark\n",
            "  Downloading pyspark-3.3.1.tar.gz (281.4 MB)\n",
            "\u001b[K     |████████████████████████████████| 281.4 MB 42 kB/s \n",
            "\u001b[?25hCollecting py4j==0.10.9.5\n",
            "  Downloading py4j-0.10.9.5-py2.py3-none-any.whl (199 kB)\n",
            "\u001b[K     |████████████████████████████████| 199 kB 66.7 MB/s \n",
            "\u001b[?25hBuilding wheels for collected packages: pyspark\n",
            "  Building wheel for pyspark (setup.py) ... \u001b[?25l\u001b[?25hdone\n",
            "  Created wheel for pyspark: filename=pyspark-3.3.1-py2.py3-none-any.whl size=281845512 sha256=247d6ef18eb56f34b31437aa57cbdbdca250e9d64d8fdf5af8396a6ee319b580\n",
            "  Stored in directory: /root/.cache/pip/wheels/42/59/f5/79a5bf931714dcd201b26025347785f087370a10a3329a899c\n",
            "Successfully built pyspark\n",
            "Installing collected packages: py4j, pyspark\n",
            "Successfully installed py4j-0.10.9.5 pyspark-3.3.1\n"
          ]
        },
        {
          "output_type": "execute_result",
          "data": {
            "text/plain": [
              "<pyspark.sql.session.SparkSession at 0x7fcc4df723d0>"
            ],
            "text/html": [
              "\n",
              "            <div>\n",
              "                <p><b>SparkSession - in-memory</b></p>\n",
              "                \n",
              "        <div>\n",
              "            <p><b>SparkContext</b></p>\n",
              "\n",
              "            <p><a href=\"http://b1d4c5acb90a:4040\">Spark UI</a></p>\n",
              "\n",
              "            <dl>\n",
              "              <dt>Version</dt>\n",
              "                <dd><code>v3.2.2</code></dd>\n",
              "              <dt>Master</dt>\n",
              "                <dd><code>local[*]</code></dd>\n",
              "              <dt>AppName</dt>\n",
              "                <dd><code>Act1</code></dd>\n",
              "            </dl>\n",
              "        </div>\n",
              "        \n",
              "            </div>\n",
              "        "
            ]
          },
          "metadata": {},
          "execution_count": 1
        }
      ]
    },
    {
      "cell_type": "markdown",
      "source": [
        "## Acceso a datos de Google Drive"
      ],
      "metadata": {
        "id": "0Aa_Gp4fSelO"
      }
    },
    {
      "cell_type": "code",
      "source": [
        "from google.colab import drive\n",
        "\n",
        "drive.mount(\"/content/gdrive\") "
      ],
      "metadata": {
        "colab": {
          "base_uri": "https://localhost:8080/"
        },
        "id": "xJa2fuSzKKVx",
        "outputId": "8a3a2b24-c34d-41d8-d95c-4b6603c9e5b4"
      },
      "execution_count": 3,
      "outputs": [
        {
          "output_type": "stream",
          "name": "stdout",
          "text": [
            "Mounted at /content/gdrive\n"
          ]
        }
      ]
    },
    {
      "cell_type": "code",
      "source": [
        "%cd \"/content/gdrive/MyDrive/Bloque 2 IA/Modulo 1 BD/Entregable\"\n",
        "!ls"
      ],
      "metadata": {
        "colab": {
          "base_uri": "https://localhost:8080/"
        },
        "id": "q5AsBW-kKU77",
        "outputId": "25a39bee-7e3c-40d0-dc7a-b513c83affe5"
      },
      "execution_count": 4,
      "outputs": [
        {
          "output_type": "stream",
          "name": "stdout",
          "text": [
            "/content/gdrive/MyDrive/Bloque 2 IA/Modulo 1 BD/Entregable\n",
            " heart.csv  'ML Pyspark.ipynb'\n"
          ]
        }
      ]
    },
    {
      "cell_type": "markdown",
      "source": [
        "##Obtencion del dataset "
      ],
      "metadata": {
        "id": "SgSvQn7BSiuE"
      }
    },
    {
      "cell_type": "markdown",
      "source": [
        "Dataset obtenido de kaggle [Heart Attack Analysis](https://www.kaggle.com/datasets/rashikrahmanpritom/heart-attack-analysis-prediction-dataset?select=heart.csv)"
      ],
      "metadata": {
        "id": "xDqHlmmkQgMO"
      }
    },
    {
      "cell_type": "code",
      "source": [
        "df = spark_Act1.read.csv('/content/gdrive/MyDrive/Bloque 2 IA/Modulo 1 BD/Entregable/heart.csv', header=True, inferSchema=True)\n",
        "df"
      ],
      "metadata": {
        "colab": {
          "base_uri": "https://localhost:8080/"
        },
        "id": "vBhuBQUSKBDG",
        "outputId": "950c98cc-69c6-4df3-e7ab-599c06dc9a69"
      },
      "execution_count": 5,
      "outputs": [
        {
          "output_type": "execute_result",
          "data": {
            "text/plain": [
              "DataFrame[age: int, sex: int, cp: int, trtbps: int, chol: int, fbs: int, restecg: int, thalachh: int, exng: int, oldpeak: double, slp: int, caa: int, thall: int, output: int]"
            ]
          },
          "metadata": {},
          "execution_count": 5
        }
      ]
    },
    {
      "cell_type": "code",
      "source": [
        "#Visualizamos el dataset para conocer los datos a tratar\n",
        "df.show()"
      ],
      "metadata": {
        "colab": {
          "base_uri": "https://localhost:8080/"
        },
        "id": "CTGQRrhPKrhZ",
        "outputId": "c5eca1df-4d98-4627-a851-9d6bb8b25201"
      },
      "execution_count": 6,
      "outputs": [
        {
          "output_type": "stream",
          "name": "stdout",
          "text": [
            "+---+---+---+------+----+---+-------+--------+----+-------+---+---+-----+------+\n",
            "|age|sex| cp|trtbps|chol|fbs|restecg|thalachh|exng|oldpeak|slp|caa|thall|output|\n",
            "+---+---+---+------+----+---+-------+--------+----+-------+---+---+-----+------+\n",
            "| 63|  1|  3|   145| 233|  1|      0|     150|   0|    2.3|  0|  0|    1|     1|\n",
            "| 37|  1|  2|   130| 250|  0|      1|     187|   0|    3.5|  0|  0|    2|     1|\n",
            "| 41|  0|  1|   130| 204|  0|      0|     172|   0|    1.4|  2|  0|    2|     1|\n",
            "| 56|  1|  1|   120| 236|  0|      1|     178|   0|    0.8|  2|  0|    2|     1|\n",
            "| 57|  0|  0|   120| 354|  0|      1|     163|   1|    0.6|  2|  0|    2|     1|\n",
            "| 57|  1|  0|   140| 192|  0|      1|     148|   0|    0.4|  1|  0|    1|     1|\n",
            "| 56|  0|  1|   140| 294|  0|      0|     153|   0|    1.3|  1|  0|    2|     1|\n",
            "| 44|  1|  1|   120| 263|  0|      1|     173|   0|    0.0|  2|  0|    3|     1|\n",
            "| 52|  1|  2|   172| 199|  1|      1|     162|   0|    0.5|  2|  0|    3|     1|\n",
            "| 57|  1|  2|   150| 168|  0|      1|     174|   0|    1.6|  2|  0|    2|     1|\n",
            "| 54|  1|  0|   140| 239|  0|      1|     160|   0|    1.2|  2|  0|    2|     1|\n",
            "| 48|  0|  2|   130| 275|  0|      1|     139|   0|    0.2|  2|  0|    2|     1|\n",
            "| 49|  1|  1|   130| 266|  0|      1|     171|   0|    0.6|  2|  0|    2|     1|\n",
            "| 64|  1|  3|   110| 211|  0|      0|     144|   1|    1.8|  1|  0|    2|     1|\n",
            "| 58|  0|  3|   150| 283|  1|      0|     162|   0|    1.0|  2|  0|    2|     1|\n",
            "| 50|  0|  2|   120| 219|  0|      1|     158|   0|    1.6|  1|  0|    2|     1|\n",
            "| 58|  0|  2|   120| 340|  0|      1|     172|   0|    0.0|  2|  0|    2|     1|\n",
            "| 66|  0|  3|   150| 226|  0|      1|     114|   0|    2.6|  0|  0|    2|     1|\n",
            "| 43|  1|  0|   150| 247|  0|      1|     171|   0|    1.5|  2|  0|    2|     1|\n",
            "| 69|  0|  3|   140| 239|  0|      1|     151|   0|    1.8|  2|  2|    2|     1|\n",
            "+---+---+---+------+----+---+-------+--------+----+-------+---+---+-----+------+\n",
            "only showing top 20 rows\n",
            "\n"
          ]
        }
      ]
    },
    {
      "cell_type": "code",
      "source": [
        "df.printSchema()"
      ],
      "metadata": {
        "colab": {
          "base_uri": "https://localhost:8080/"
        },
        "id": "F5ozSZ1VK1BA",
        "outputId": "40ab1c88-9689-45de-c9c7-f9ed852f1daa"
      },
      "execution_count": 7,
      "outputs": [
        {
          "output_type": "stream",
          "name": "stdout",
          "text": [
            "root\n",
            " |-- age: integer (nullable = true)\n",
            " |-- sex: integer (nullable = true)\n",
            " |-- cp: integer (nullable = true)\n",
            " |-- trtbps: integer (nullable = true)\n",
            " |-- chol: integer (nullable = true)\n",
            " |-- fbs: integer (nullable = true)\n",
            " |-- restecg: integer (nullable = true)\n",
            " |-- thalachh: integer (nullable = true)\n",
            " |-- exng: integer (nullable = true)\n",
            " |-- oldpeak: double (nullable = true)\n",
            " |-- slp: integer (nullable = true)\n",
            " |-- caa: integer (nullable = true)\n",
            " |-- thall: integer (nullable = true)\n",
            " |-- output: integer (nullable = true)\n",
            "\n"
          ]
        }
      ]
    },
    {
      "cell_type": "markdown",
      "source": [
        "## Data preparation"
      ],
      "metadata": {
        "id": "KQw-RmtPlyIg"
      }
    },
    {
      "cell_type": "markdown",
      "source": [
        "Creacion del Vector Assembler con los datos relevantes del Dataset.\n",
        "\n",
        "En este caso, debido a que todos los datos son relevantes para saber si una persona es propensa a tener un ataque al corazón, dejaremos todos como features para la prediccion del modelo. "
      ],
      "metadata": {
        "id": "MqDjUXcFSoV0"
      }
    },
    {
      "cell_type": "code",
      "source": [
        "from pyspark.ml.feature import VectorAssembler\n",
        "\n",
        "cols = ['age', 'sex', 'cp', 'trtbps', 'chol', 'fbs',\n",
        "        'restecg', 'thalachh', 'exng', 'oldpeak', \n",
        "        'slp', 'caa', 'thall']\n",
        "\n",
        "assembler = VectorAssembler(\n",
        "    inputCols=cols,\n",
        "    outputCol=\"features\")\n",
        "\n",
        "transformed = assembler.transform(df)\n",
        "\n",
        "#Creamos el dataset final con el vector assembler y los outputs\n",
        "final_data = transformed.select(\"features\", \"output\")\n",
        "final_data.show()"
      ],
      "metadata": {
        "colab": {
          "base_uri": "https://localhost:8080/"
        },
        "id": "jUUaDwSoLYVI",
        "outputId": "f3c14802-e8a9-4717-fd24-a9973de6ad0c"
      },
      "execution_count": 8,
      "outputs": [
        {
          "output_type": "stream",
          "name": "stdout",
          "text": [
            "+--------------------+------+\n",
            "|            features|output|\n",
            "+--------------------+------+\n",
            "|[63.0,1.0,3.0,145...|     1|\n",
            "|[37.0,1.0,2.0,130...|     1|\n",
            "|[41.0,0.0,1.0,130...|     1|\n",
            "|[56.0,1.0,1.0,120...|     1|\n",
            "|[57.0,0.0,0.0,120...|     1|\n",
            "|[57.0,1.0,0.0,140...|     1|\n",
            "|[56.0,0.0,1.0,140...|     1|\n",
            "|[44.0,1.0,1.0,120...|     1|\n",
            "|[52.0,1.0,2.0,172...|     1|\n",
            "|[57.0,1.0,2.0,150...|     1|\n",
            "|[54.0,1.0,0.0,140...|     1|\n",
            "|[48.0,0.0,2.0,130...|     1|\n",
            "|[49.0,1.0,1.0,130...|     1|\n",
            "|[64.0,1.0,3.0,110...|     1|\n",
            "|[58.0,0.0,3.0,150...|     1|\n",
            "|[50.0,0.0,2.0,120...|     1|\n",
            "|[58.0,0.0,2.0,120...|     1|\n",
            "|[66.0,0.0,3.0,150...|     1|\n",
            "|[43.0,1.0,0.0,150...|     1|\n",
            "|[69.0,0.0,3.0,140...|     1|\n",
            "+--------------------+------+\n",
            "only showing top 20 rows\n",
            "\n"
          ]
        }
      ]
    },
    {
      "cell_type": "code",
      "source": [
        "final_data.count()"
      ],
      "metadata": {
        "colab": {
          "base_uri": "https://localhost:8080/"
        },
        "id": "Ger-Hd7TIpk-",
        "outputId": "b8b8f2cb-ec19-40f2-fbe1-fa98c0c18190"
      },
      "execution_count": 9,
      "outputs": [
        {
          "output_type": "execute_result",
          "data": {
            "text/plain": [
              "303"
            ]
          },
          "metadata": {},
          "execution_count": 9
        }
      ]
    },
    {
      "cell_type": "markdown",
      "source": [
        "Dividimos el dataset en trein y test, con una proporion de 80-20, ya que el dataset al no tener tantas instancias, queremos tener mas informacion para entrenar"
      ],
      "metadata": {
        "id": "q7CXjOdXIXS-"
      }
    },
    {
      "cell_type": "code",
      "source": [
        "# Split en train y test\n",
        "(df_train, df_test) = final_data.randomSplit([0.8, 0.2], seed=42)"
      ],
      "metadata": {
        "id": "ModjRMChLCLb"
      },
      "execution_count": 10,
      "outputs": []
    },
    {
      "cell_type": "markdown",
      "source": [
        "##Creación del modelo"
      ],
      "metadata": {
        "id": "6u16g99tlFvC"
      }
    },
    {
      "cell_type": "markdown",
      "source": [
        "Al querer predecir unos o ceros, para saber si una persona es propensa a sufrir un ataque al corazón, se uso regresion logistica, ya que este modelo nos sirve para clasificar y es sencillo."
      ],
      "metadata": {
        "id": "jtNLDGWlKhbc"
      }
    },
    {
      "cell_type": "code",
      "source": [
        "from pyspark.ml.classification import LogisticRegression\n",
        "\n",
        "lr = LogisticRegression(featuresCol = 'features', labelCol = 'output', maxIter=10)\n",
        "lrModel = lr.fit(df_train)"
      ],
      "metadata": {
        "id": "qPDXKYIGTwjN"
      },
      "execution_count": 11,
      "outputs": []
    },
    {
      "cell_type": "markdown",
      "source": [
        "## Predicción del modelo"
      ],
      "metadata": {
        "id": "nyISLfiSlMIk"
      }
    },
    {
      "cell_type": "code",
      "source": [
        "prediction_result = lrModel.evaluate(df_test)\n",
        "prediction_result.predictions.show()"
      ],
      "metadata": {
        "colab": {
          "base_uri": "https://localhost:8080/"
        },
        "id": "I24a5hgcdZeh",
        "outputId": "8b1acdd5-bbc2-4960-af70-6ccfe5216e3e"
      },
      "execution_count": 12,
      "outputs": [
        {
          "output_type": "stream",
          "name": "stderr",
          "text": [
            "/content/spark-3.2.2-bin-hadoop3.2/python/pyspark/sql/context.py:127: FutureWarning: Deprecated in 3.0.0. Use SparkSession.builder.getOrCreate() instead.\n",
            "  FutureWarning\n"
          ]
        },
        {
          "output_type": "stream",
          "name": "stdout",
          "text": [
            "+--------------------+------+--------------------+--------------------+----------+\n",
            "|            features|output|       rawPrediction|         probability|prediction|\n",
            "+--------------------+------+--------------------+--------------------+----------+\n",
            "|(13,[0,1,3,4,7,10...|     1|[-1.6024271293504...|[0.16764266337552...|       1.0|\n",
            "|(13,[0,2,3,4,7,10...|     1|[-4.3409266797788...|[0.01285699774777...|       1.0|\n",
            "|(13,[0,3,4,6,7,10...|     1|[-3.5230334395098...|[0.02866391713948...|       1.0|\n",
            "|(13,[0,3,4,7,9,10...|     1|[-0.5150869587615...|[0.37400178283818...|       1.0|\n",
            "|(13,[0,3,4,7,10,1...|     0|[-2.5446041488268...|[0.07278982082143...|       1.0|\n",
            "|[35.0,0.0,0.0,138...|     1|[-2.9240991734914...|[0.05097503153331...|       1.0|\n",
            "|[38.0,1.0,2.0,138...|     1|[0.05966841915935...|[0.51491268055915...|       0.0|\n",
            "|[39.0,1.0,2.0,140...|     1|[-2.1611473150729...|[0.10329413364568...|       1.0|\n",
            "|[41.0,1.0,1.0,135...|     1|[-1.6533833752988...|[0.16065220088396...|       1.0|\n",
            "|[41.0,1.0,2.0,112...|     1|[-3.4533634589848...|[0.03066871197466...|       1.0|\n",
            "|[41.0,1.0,2.0,130...|     1|[-0.8801662305093...|[0.29314333304514...|       1.0|\n",
            "|[42.0,1.0,0.0,136...|     0|[1.73332141012864...|[0.84983677214587...|       0.0|\n",
            "|[42.0,1.0,1.0,120...|     1|[-2.0012626190904...|[0.11907041884216...|       1.0|\n",
            "|[43.0,0.0,0.0,132...|     0|[2.20228621519733...|[0.90045462597604...|       0.0|\n",
            "|[43.0,1.0,2.0,130...|     1|[-0.6873312664927...|[0.33462700901949...|       1.0|\n",
            "|[44.0,1.0,1.0,120...|     1|[-1.5221914730131...|[0.17913904052288...|       1.0|\n",
            "|[45.0,1.0,0.0,104...|     1|[1.98569261489963...|[0.87928669117806...|       0.0|\n",
            "|[49.0,1.0,2.0,118...|     0|[0.45462749276270...|[0.61173889684527...|       0.0|\n",
            "|[51.0,1.0,0.0,140...|     1|[0.01875930122757...|[0.50468968777815...|       0.0|\n",
            "|[51.0,1.0,2.0,100...|     1|[-0.7909996725247...|[0.31195406065610...|       1.0|\n",
            "+--------------------+------+--------------------+--------------------+----------+\n",
            "only showing top 20 rows\n",
            "\n"
          ]
        }
      ]
    },
    {
      "cell_type": "markdown",
      "source": [
        "## Metricas obtenidas por el modelo"
      ],
      "metadata": {
        "id": "QHsFcp4RlQla"
      }
    },
    {
      "cell_type": "markdown",
      "source": [
        "Accuracy del modelo en train"
      ],
      "metadata": {
        "id": "FIR6kRM2kC9j"
      }
    },
    {
      "cell_type": "code",
      "source": [
        "lrModel.summary.accuracy"
      ],
      "metadata": {
        "colab": {
          "base_uri": "https://localhost:8080/"
        },
        "id": "JDvsrIrAfxwv",
        "outputId": "173905ad-49b5-45f0-ec92-3ee19c310f98"
      },
      "execution_count": 13,
      "outputs": [
        {
          "output_type": "execute_result",
          "data": {
            "text/plain": [
              "0.8359375"
            ]
          },
          "metadata": {},
          "execution_count": 13
        }
      ]
    },
    {
      "cell_type": "markdown",
      "source": [
        "Accuracy del modelo en test"
      ],
      "metadata": {
        "id": "Vc3xez5zkGbJ"
      }
    },
    {
      "cell_type": "code",
      "source": [
        "prediction_result.accuracy"
      ],
      "metadata": {
        "colab": {
          "base_uri": "https://localhost:8080/"
        },
        "id": "Yj8HKzBkf1zo",
        "outputId": "9eff9c28-f74e-435b-86d7-a723875250c6"
      },
      "execution_count": 14,
      "outputs": [
        {
          "output_type": "execute_result",
          "data": {
            "text/plain": [
              "0.851063829787234"
            ]
          },
          "metadata": {},
          "execution_count": 14
        }
      ]
    },
    {
      "cell_type": "markdown",
      "source": [
        "Area under ROC del modelo en test"
      ],
      "metadata": {
        "id": "vLj_jjEakLc4"
      }
    },
    {
      "cell_type": "code",
      "source": [
        "prediction_result.areaUnderROC"
      ],
      "metadata": {
        "colab": {
          "base_uri": "https://localhost:8080/"
        },
        "id": "mKS--b-yigYG",
        "outputId": "b40b0b69-f567-4e90-d240-bebbdcc627be"
      },
      "execution_count": 15,
      "outputs": [
        {
          "output_type": "execute_result",
          "data": {
            "text/plain": [
              "0.9176470588235294"
            ]
          },
          "metadata": {},
          "execution_count": 15
        }
      ]
    },
    {
      "cell_type": "code",
      "source": [],
      "metadata": {
        "id": "KvT_jYhNLhwR"
      },
      "execution_count": null,
      "outputs": []
    }
  ]
}